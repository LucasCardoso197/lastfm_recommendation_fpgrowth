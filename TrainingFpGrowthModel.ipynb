{
 "cells": [
  {
   "cell_type": "code",
   "execution_count": 1,
   "metadata": {},
   "outputs": [],
   "source": [
    "import findspark\n",
    "findspark.init()"
   ]
  },
  {
   "cell_type": "code",
   "execution_count": 2,
   "metadata": {},
   "outputs": [],
   "source": [
    "import pyspark\n",
    "sc = pyspark.SparkContext(appName=\"Music_Recomendation_Training\")"
   ]
  },
  {
   "cell_type": "code",
   "execution_count": 3,
   "metadata": {},
   "outputs": [],
   "source": [
    "from pyspark.sql import SparkSession\n",
    "\n",
    "spark = SparkSession \\\n",
    "    .builder \\\n",
    "    .appName(\"CorrelationExample\") \\\n",
    "    .getOrCreate()"
   ]
  },
  {
   "cell_type": "code",
   "execution_count": 4,
   "metadata": {},
   "outputs": [],
   "source": [
    "datasetPath = \"./lastfm-dataset-360K/usersha1-artmbid-artname-plays.tsv\"\n",
    "df1 = spark.read.csv(datasetPath, sep=r'\\t', header=False).select('_c0','_c2')"
   ]
  },
  {
   "cell_type": "code",
   "execution_count": 5,
   "metadata": {},
   "outputs": [
    {
     "name": "stdout",
     "output_type": "stream",
     "text": [
      "(359349, 2)\n"
     ]
    }
   ],
   "source": [
    "import pyspark.sql.functions as F\n",
    "finalDf = df1.groupBy('_c0').agg(F.collect_set('_c2').alias('items')).withColumnRenamed(\"_c0\", \"user\")\n",
    "print((finalDf.count(), len(finalDf.columns)))"
   ]
  },
  {
   "cell_type": "code",
   "execution_count": 6,
   "metadata": {
    "scrolled": true
   },
   "outputs": [
    {
     "name": "stdout",
     "output_type": "stream",
     "text": [
      "+--------------------+--------------------+\n",
      "|                user|               items|\n",
      "+--------------------+--------------------+\n",
      "|0018726a8c3b371dc...|[tribalistas, urs...|\n",
      "|0023836770b560316...|[swod, the beatle...|\n",
      "|00759937bbc2c3fea...|[serge gainsbourg...|\n",
      "|008cc3f3075e913d4...|[preston school o...|\n",
      "|0093a82573bc14f2e...|[wir sind helden,...|\n",
      "+--------------------+--------------------+\n",
      "only showing top 5 rows\n",
      "\n"
     ]
    }
   ],
   "source": [
    "finalDf.show(5)"
   ]
  },
  {
   "cell_type": "code",
   "execution_count": 7,
   "metadata": {},
   "outputs": [
    {
     "name": "stdout",
     "output_type": "stream",
     "text": [
      "+--------------------+-----+\n",
      "|      items_exploded|count|\n",
      "+--------------------+-----+\n",
      "|           radiohead|77348|\n",
      "|         the beatles|76339|\n",
      "|            coldplay|66738|\n",
      "|red hot chili pep...|48989|\n",
      "|                muse|47015|\n",
      "|           metallica|45301|\n",
      "|          pink floyd|44506|\n",
      "|         the killers|41280|\n",
      "|         linkin park|39833|\n",
      "|             nirvana|39534|\n",
      "|    system of a down|37324|\n",
      "|               queen|34215|\n",
      "|                  u2|33247|\n",
      "|           daft punk|33040|\n",
      "|            the cure|32673|\n",
      "|        led zeppelin|32341|\n",
      "|             placebo|32111|\n",
      "|        depeche mode|31966|\n",
      "|         david bowie|31907|\n",
      "|           bob dylan|31840|\n",
      "+--------------------+-----+\n",
      "only showing top 20 rows\n",
      "\n"
     ]
    }
   ],
   "source": [
    "# Finding parameters for FPGrowth\n",
    "auxDf = finalDf \\\n",
    "    .select(F.explode(\"items\").alias(\"items_exploded\")) \\\n",
    "    .groupBy(\"items_exploded\") \\\n",
    "    .count() \\\n",
    "    .orderBy(F.desc(\"count\"))\n",
    "auxDf.show()\n",
    "userCount = finalDf.count()"
   ]
  },
  {
   "cell_type": "code",
   "execution_count": 8,
   "metadata": {},
   "outputs": [
    {
     "name": "stdout",
     "output_type": "stream",
     "text": [
      "0.215244789883929\n",
      "0.215244789883929\n",
      "5.565620051815923e-05\n"
     ]
    }
   ],
   "source": [
    "quant = auxDf.approxQuantile('count', (0.99, 0.95, 0.85), 0.05)\n",
    "for value in quant:\n",
    "    print(value/userCount)"
   ]
  },
  {
   "cell_type": "code",
   "execution_count": 10,
   "metadata": {},
   "outputs": [
    {
     "name": "stdout",
     "output_type": "stream",
     "text": [
      "+--------------------+-----+\n",
      "|               items| freq|\n",
      "+--------------------+-----+\n",
      "|          [ladytron]|10784|\n",
      "|     [ladytron, air]| 2671|\n",
      "|[ladytron, the kn...| 2863|\n",
      "|[ladytron, depech...| 3033|\n",
      "|[ladytron, röyksopp]| 2295|\n",
      "|[ladytron, coldplay]| 1871|\n",
      "|[ladytron, the cure]| 2287|\n",
      "|[ladytron, goldfr...| 2396|\n",
      "|    [ladytron, muse]| 1932|\n",
      "|[ladytron, daft p...| 2213|\n",
      "|[ladytron, portis...| 2308|\n",
      "| [ladytron, placebo]| 2096|\n",
      "|[ladytron, nine i...| 1999|\n",
      "|[ladytron, the be...| 1952|\n",
      "|[ladytron, massiv...| 2122|\n",
      "|   [ladytron, björk]| 2290|\n",
      "|[ladytron, radioh...| 3695|\n",
      "|      [gwen stefani]| 6591|\n",
      "|[gwen stefani, av...| 1818|\n",
      "|[gwen stefani, ma...| 2699|\n",
      "+--------------------+-----+\n",
      "only showing top 20 rows\n",
      "\n",
      "+--------------------+--------------------+-------------------+------------------+\n",
      "|          antecedent|          consequent|         confidence|              lift|\n",
      "+--------------------+--------------------+-------------------+------------------+\n",
      "|[moby, massive at...|          [röyksopp]| 0.5535714285714286| 9.893829667050348|\n",
      "|[judas priest, sl...|         [metallica]| 0.7776845637583892| 6.168962501975969|\n",
      "|      [alice cooper]|              [kiss]| 0.3125314544539507|13.696081173972285|\n",
      "|      [alice cooper]|     [black sabbath]|0.33132024828048984| 7.140434202911464|\n",
      "|      [alice cooper]|             [queen]| 0.3314880053682268|3.4815105433601325|\n",
      "|      [alice cooper]|         [metallica]|0.39607448414695523|3.1418505066935434|\n",
      "|      [alice cooper]|       [iron maiden]|0.40731420902533133| 5.820493645327227|\n",
      "|      [alice cooper]|             [ac/dc]| 0.4096628082536487| 5.724971629584678|\n",
      "|[ac/dc, queen, me...|       [iron maiden]| 0.5369672368802552| 7.673227009411971|\n",
      "|[slipknot, rage a...|  [system of a down]| 0.6338918748024028| 6.103001053433948|\n",
      "|    [counting crows]|      [jack johnson]| 0.2541586073500967|3.6624951434675346|\n",
      "|    [counting crows]|          [coldplay]|0.44990328820116054|2.4224923838262886|\n",
      "|    [counting crows]|       [the killers]|0.25583494519664735| 2.227084101779797|\n",
      "|    [counting crows]|       [the beatles]| 0.3323017408123791| 1.564237129896745|\n",
      "|    [counting crows]|[red hot chili pe...|0.26563507414571247|1.9485128959396523|\n",
      "|    [counting crows]|                [u2]| 0.2831721470019342| 3.060655934460194|\n",
      "|    [counting crows]|         [radiohead]| 0.3161831076724694|1.4689466251098178|\n",
      "|[foo fighters, pl...|          [coldplay]| 0.4896670493685419|2.6365993065949858|\n",
      "|[foo fighters, pl...|              [muse]| 0.5390355912743973| 4.120002141632742|\n",
      "|[foo fighters, pl...|       [the killers]| 0.4184845005740528|3.6429744863562328|\n",
      "+--------------------+--------------------+-------------------+------------------+\n",
      "only showing top 20 rows\n",
      "\n",
      "+--------------------+-----------------------+--------------------+\n",
      "|                user|                  items|          prediction|\n",
      "+--------------------+-----------------------+--------------------+\n",
      "|0018726a8c3b371dc...|   [tribalistas, urs...|[air, the chemica...|\n",
      "|0023836770b560316...|   [swod, the beatle...|[rammstein, linki...|\n",
      "|00759937bbc2c3fea...|   [serge gainsbourg...|[sufjan stevens, ...|\n",
      "|008cc3f3075e913d4...|   [preston school o...|[coldplay, the cu...|\n",
      "|0093a82573bc14f2e...|   [wir sind helden,...|[coldplay, the ki...|\n",
      "|009bbbfb915da19c7...|   [roy orbison, wee...|[the beatles, led...|\n",
      "|0120decc67f643a97...|[김태우, steve jablo...|[the pussycat dol...|\n",
      "|013605307eb4548e6...|   [giacomo puccini,...|[radiohead, porti...|\n",
      "|0141256757f4e444c...|   [ultima bleep, so...|[nightwish, ramms...|\n",
      "|014e8750b967d5808...|   [blindside, relie...|[radiohead, the k...|\n",
      "|018df35d43a09c2ea...|   [subheim, dj crys...|[coldplay, the cu...|\n",
      "|0190b6363d9ee958d...|   [moderat, eins zw...|[coldplay, radioh...|\n",
      "|01938da7bc74af47e...|   [sirenia, lacrimo...|[after forever, m...|\n",
      "|019b10e6720e51ab8...|   [guns n' roses, c...|[muse, linkin par...|\n",
      "|01a74555553a77840...|   [t.a.t.u., the ba...|[oasis, bloc part...|\n",
      "|01b3161efa3348af8...|   [planet hemp, dea...|[linkin park, nir...|\n",
      "|02169744d88385a7d...|   [folkearth, gävel...|                  []|\n",
      "|0245f916a5bc4eb54...|   [sade, tool, the ...|[radiohead, coldp...|\n",
      "|024d0e32a568414f1...|   [exilia, eilera, ...|[breaking benjami...|\n",
      "|024d99e59fe87b35c...|   [guilty simpson, ...|[notorious b.i.g....|\n",
      "+--------------------+-----------------------+--------------------+\n",
      "only showing top 20 rows\n",
      "\n"
     ]
    }
   ],
   "source": [
    "from pyspark.ml.fpm import FPGrowth\n",
    "\n",
    "fpGrowth = FPGrowth(itemsCol=\"items\", minSupport=0.005, minConfidence=0.2)\n",
    "model = fpGrowth.fit(finalDf)\n",
    "\n",
    "# Display frequent itemsets.\n",
    "model.freqItemsets.show()\n",
    "\n",
    "# Display generated association rules.\n",
    "model.associationRules.show()\n",
    "\n",
    "# transform examines the input items against all the association rules and summarize the\n",
    "# consequents as prediction\n",
    "model.transform(finalDf).show()"
   ]
  },
  {
   "cell_type": "code",
   "execution_count": 12,
   "metadata": {},
   "outputs": [],
   "source": [
    "predictionDf = model.transform(finalDf)"
   ]
  },
  {
   "cell_type": "code",
   "execution_count": 15,
   "metadata": {
    "scrolled": false
   },
   "outputs": [],
   "source": [
    "model.save(\"mymodel\")"
   ]
  }
 ],
 "metadata": {
  "kernelspec": {
   "display_name": "Python 3",
   "language": "python",
   "name": "python3"
  },
  "language_info": {
   "codemirror_mode": {
    "name": "ipython",
    "version": 3
   },
   "file_extension": ".py",
   "mimetype": "text/x-python",
   "name": "python",
   "nbconvert_exporter": "python",
   "pygments_lexer": "ipython3",
   "version": "3.6.9"
  }
 },
 "nbformat": 4,
 "nbformat_minor": 4
}
